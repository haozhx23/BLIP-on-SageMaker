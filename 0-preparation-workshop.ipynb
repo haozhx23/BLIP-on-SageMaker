{
 "cells": [
  {
   "cell_type": "markdown",
   "id": "1adddd55-c138-487a-8c9e-883d8671274c",
   "metadata": {},
   "source": [
    "## Copy from S3 presign URL (for workshop)"
   ]
  },
  {
   "cell_type": "code",
   "execution_count": null,
   "id": "1f27b1ff-177d-4636-a76f-ba75687260a9",
   "metadata": {},
   "outputs": [],
   "source": [
    "import sagemaker\n",
    "sess = sagemaker.Session()\n",
    "sagemaker_default_bucket = sess.default_bucket()\n",
    "\n",
    "s3_destination_path = f's3://{sagemaker_default_bucket}/blip-flickr/' # use default bucket or change to your own s3 path\n",
    "\n",
    "print(s3_destination_path)"
   ]
  },
  {
   "cell_type": "code",
   "execution_count": null,
   "id": "d94f6f15-8c9c-4e60-ab38-df6fae38f5db",
   "metadata": {},
   "outputs": [],
   "source": [
    "# Download s5cmd for fast download\n",
    "!curl -L https://github.com/peak/s5cmd/releases/download/v2.0.0/s5cmd_2.0.0_Linux-64bit.tar.gz | tar -xz s5cmd"
   ]
  },
  {
   "cell_type": "code",
   "execution_count": null,
   "id": "a2ba2bc4-98ad-426b-9e3d-44ad2abbdeac",
   "metadata": {},
   "outputs": [],
   "source": []
  },
  {
   "cell_type": "markdown",
   "id": "70336bfb-d57e-4650-a089-f3c9f1e920f1",
   "metadata": {},
   "source": [
    "#### Download checkpoints"
   ]
  },
  {
   "cell_type": "markdown",
   "id": "b0d90d35-6922-4fb3-bf41-3aebdb240c93",
   "metadata": {},
   "source": [
    "Down load model checkpoint from original repo & upload to s3"
   ]
  },
  {
   "cell_type": "code",
   "execution_count": null,
   "id": "d7810ede-3d69-4173-8d31-364468cf02c8",
   "metadata": {
    "tags": []
   },
   "outputs": [],
   "source": [
    "!wget -c https://storage.googleapis.com/sfr-vision-language-research/BLIP/models/model_base_retrieval_flickr.pth"
   ]
  },
  {
   "cell_type": "code",
   "execution_count": null,
   "id": "951fb5fb-d7b9-4d1b-a2cb-75fc68d5cad6",
   "metadata": {
    "tags": []
   },
   "outputs": [],
   "source": [
    "s3_ckpt = s3_destination_path + 'model/'\n",
    "!aws s3 cp model_base_retrieval_flickr.pth {s3_ckpt}"
   ]
  },
  {
   "cell_type": "code",
   "execution_count": null,
   "id": "2f3e063f-d9d6-4f87-b3db-bbef985f5b1b",
   "metadata": {},
   "outputs": [],
   "source": []
  },
  {
   "cell_type": "markdown",
   "id": "455aabb0-433e-485d-befd-4a3ff1705487",
   "metadata": {},
   "source": [
    "#### Download from (EXTERNAL) s3, unzip, and upload raw data to (PRIVATE) s3"
   ]
  },
  {
   "cell_type": "markdown",
   "id": "55e72700-a126-4d30-b848-9c358c50fd35",
   "metadata": {},
   "source": [
    "Download training images and labels from s3 presign url"
   ]
  },
  {
   "cell_type": "code",
   "execution_count": null,
   "id": "59801e4e-adea-4c9b-8db7-bc114402e38d",
   "metadata": {},
   "outputs": [],
   "source": [
    "!wget -O flickr-train-data.zip \"PASTE-THE-S3-PRESIGN-LINK-HERE\""
   ]
  },
  {
   "cell_type": "code",
   "execution_count": null,
   "id": "2e17f2a5-76e6-474c-809e-05c211ec3acc",
   "metadata": {
    "scrolled": true,
    "tags": []
   },
   "outputs": [],
   "source": [
    "!unzip flickr-train-data.zip"
   ]
  },
  {
   "cell_type": "code",
   "execution_count": null,
   "id": "1999f4a2-abd8-418e-8bba-2ff873cb810a",
   "metadata": {},
   "outputs": [],
   "source": [
    "unzip_img_path = 'sub-images/'\n",
    "unzip_anno_path = 'sub-anno/'\n",
    "s3_img = s3_destination_path + unzip_img_path\n",
    "s3_anno = s3_destination_path + unzip_anno_path"
   ]
  },
  {
   "cell_type": "code",
   "execution_count": null,
   "id": "3c00f2b3-82a0-4024-9eff-c5a14d0364e3",
   "metadata": {
    "scrolled": true,
    "tags": []
   },
   "outputs": [],
   "source": [
    "!chmod +x ./s5cmd\n",
    "!./s5cmd sync {unzip_img_path} {s3_img}\n",
    "!./s5cmd sync {unzip_anno_path} {s3_anno}"
   ]
  },
  {
   "cell_type": "code",
   "execution_count": null,
   "id": "737e0c7a-f03f-422a-b8c2-4cd1c609e98a",
   "metadata": {},
   "outputs": [],
   "source": [
    "# Clean big data\n",
    "!rm -rf flickr-train-data.zip model_base_retrieval_flickr.pth sub-*"
   ]
  },
  {
   "cell_type": "code",
   "execution_count": null,
   "id": "00318ad0-d2c7-41ee-a34d-ccc2f7996f25",
   "metadata": {},
   "outputs": [],
   "source": []
  }
 ],
 "metadata": {
  "kernelspec": {
   "display_name": "conda_python3",
   "language": "python",
   "name": "conda_python3"
  },
  "language_info": {
   "codemirror_mode": {
    "name": "ipython",
    "version": 3
   },
   "file_extension": ".py",
   "mimetype": "text/x-python",
   "name": "python",
   "nbconvert_exporter": "python",
   "pygments_lexer": "ipython3",
   "version": "3.10.12"
  }
 },
 "nbformat": 4,
 "nbformat_minor": 5
}
