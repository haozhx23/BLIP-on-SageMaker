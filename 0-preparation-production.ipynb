{
 "cells": [
  {
   "cell_type": "markdown",
   "id": "e3557e01-b46e-40c7-a033-fd47a7c98995",
   "metadata": {
    "tags": []
   },
   "source": [
    "## Prepare dependencies"
   ]
  },
  {
   "cell_type": "code",
   "execution_count": null,
   "id": "d1e6e184-cb81-4807-a8d3-f6de24b00862",
   "metadata": {
    "tags": []
   },
   "outputs": [],
   "source": [
    "import sagemaker\n",
    "sess = sagemaker.Session()\n",
    "sagemaker_default_bucket = sess.default_bucket()\n",
    "\n",
    "s3_destination_path = f's3://{sagemaker_default_bucket}/blip-flickr/' # use default bucket or change to your own s3 path\n",
    "\n",
    "print(s3_destination_path)"
   ]
  },
  {
   "cell_type": "code",
   "execution_count": null,
   "id": "0d64d682-4d71-4c86-9903-05695d5d644c",
   "metadata": {},
   "outputs": [],
   "source": [
    "# Download s5cmd for fast download\n",
    "!curl -L https://github.com/peak/s5cmd/releases/download/v2.0.0/s5cmd_2.0.0_Linux-64bit.tar.gz | tar -xz s5cmd"
   ]
  },
  {
   "cell_type": "markdown",
   "id": "e5cd52f8-ef12-4beb-b9f4-1370f181205e",
   "metadata": {},
   "source": [
    "#### Download checkpoints"
   ]
  },
  {
   "cell_type": "code",
   "execution_count": null,
   "id": "76d85f5a-26de-4478-960b-4956f9f03c70",
   "metadata": {
    "tags": []
   },
   "outputs": [],
   "source": [
    "!wget -c https://storage.googleapis.com/sfr-vision-language-research/BLIP/models/model_base_retrieval_flickr.pth"
   ]
  },
  {
   "cell_type": "code",
   "execution_count": null,
   "id": "980495d7",
   "metadata": {
    "tags": []
   },
   "outputs": [],
   "source": [
    "s3_ckpt = s3_destination_path + 'model/'\n",
    "!aws s3 cp model_base_retrieval_flickr.pth {s3_ckpt}"
   ]
  },
  {
   "cell_type": "code",
   "execution_count": null,
   "id": "fd2af6fc-0dca-48a6-b5a9-b5fb6d4f62cf",
   "metadata": {
    "tags": []
   },
   "outputs": [],
   "source": []
  },
  {
   "cell_type": "markdown",
   "id": "05045522-98a7-4f26-8636-0be922f48e5c",
   "metadata": {},
   "source": [
    "#### Download annotations"
   ]
  },
  {
   "cell_type": "code",
   "execution_count": null,
   "id": "43157af1-8c87-4c6e-bb8e-aead4d9d2d3e",
   "metadata": {
    "tags": []
   },
   "outputs": [],
   "source": [
    "!wget https://storage.googleapis.com/sfr-vision-language-research/datasets/flickr30k_val.json\n",
    "!wget https://storage.googleapis.com/sfr-vision-language-research/datasets/flickr30k_test.json\n",
    "!wget https://storage.googleapis.com/sfr-vision-language-research/datasets/flickr30k_train.json"
   ]
  },
  {
   "cell_type": "code",
   "execution_count": null,
   "id": "c31c1965-5a42-4ac7-b026-bad682cf0f49",
   "metadata": {
    "tags": []
   },
   "outputs": [],
   "source": [
    "# Sample a sub dataset\n",
    "import json, random\n",
    "\n",
    "val_anno = json.load(open('flickr30k_val.json','r'))\n",
    "sub_val = random.sample(val_anno,500)\n",
    "with open('flickr30k_val_sub.json', 'w') as f: \n",
    "    json.dump(sub_val, f)\n",
    "    \n",
    "test_anno = json.load(open('flickr30k_test.json','r'))\n",
    "sub_test = random.sample(test_anno,500)\n",
    "with open('flickr30k_test_sub.json', 'w') as f:\n",
    "    json.dump(sub_test, f)\n",
    "    \n",
    "train_anno = json.load(open('flickr30k_train.json','r'))\n",
    "sub_train = random.sample(train_anno,2000)\n",
    "with open('flickr30k_train_sub.json', 'w') as f: \n",
    "    json.dump(sub_train, f)"
   ]
  },
  {
   "cell_type": "code",
   "execution_count": null,
   "id": "d51255f6-fee1-4b42-a5a2-e28a68b9a3ac",
   "metadata": {
    "tags": []
   },
   "outputs": [],
   "source": [
    "s3_anno = s3_destination_path + 'sub-anno/'\n",
    "!aws s3 cp flickr30k_val_sub.json {s3_anno}\n",
    "!aws s3 cp flickr30k_test_sub.json {s3_anno}\n",
    "!aws s3 cp flickr30k_train_sub.json {s3_anno}"
   ]
  },
  {
   "cell_type": "code",
   "execution_count": null,
   "id": "b22e9459-4006-4c42-ac84-bcbf5cf053c6",
   "metadata": {},
   "outputs": [],
   "source": [
    "sub_anno = sub_val+sub_test+sub_train"
   ]
  },
  {
   "cell_type": "code",
   "execution_count": null,
   "id": "17cdf9d5-c39c-457f-96a0-0e7dbbf32cf0",
   "metadata": {},
   "outputs": [],
   "source": []
  },
  {
   "cell_type": "markdown",
   "id": "2ccc3e7f-59ee-464d-aef5-c7a9786e1bbc",
   "metadata": {},
   "source": [
    "#### Download images & Sample subsets"
   ]
  },
  {
   "cell_type": "code",
   "execution_count": null,
   "id": "a5128f5a-e8d7-4631-9871-b98e17341ba4",
   "metadata": {},
   "outputs": [],
   "source": [
    "!pip install kaggle\n",
    "!cp kaggle.json /home/ec2-user/.kaggle\n",
    "!kaggle datasets download -d hsankesara/flickr-image-dataset\n",
    "!unzip flickr-image-dataset.zip"
   ]
  },
  {
   "cell_type": "code",
   "execution_count": null,
   "id": "72484e31-bdc7-4d94-9f95-71493c8aaef1",
   "metadata": {
    "scrolled": true,
    "tags": []
   },
   "outputs": [],
   "source": [
    "# Image should be sampled based on annotation\n",
    "import os\n",
    "def copy_single_image(d):\n",
    "    img = 'flickr30k-dataset/flickr30k_images/' + d['image']\n",
    "    os.system(f'aws s3 cp {img} s3://llm-artifacts-us-east-1/blip-flickr/sub-images/')\n",
    "    \n",
    "from joblib import Parallel, delayed\n",
    "Parallel(n_jobs=5)(delayed(copy_single_image)(i) for i in sub_anno)"
   ]
  },
  {
   "cell_type": "code",
   "execution_count": null,
   "id": "df09caf0-7918-45ee-9ffa-2f9d23c32da5",
   "metadata": {},
   "outputs": [],
   "source": []
  }
 ],
 "metadata": {
  "kernelspec": {
   "display_name": "conda_python3",
   "language": "python",
   "name": "conda_python3"
  },
  "language_info": {
   "codemirror_mode": {
    "name": "ipython",
    "version": 3
   },
   "file_extension": ".py",
   "mimetype": "text/x-python",
   "name": "python",
   "nbconvert_exporter": "python",
   "pygments_lexer": "ipython3",
   "version": "3.10.12"
  }
 },
 "nbformat": 4,
 "nbformat_minor": 5
}
